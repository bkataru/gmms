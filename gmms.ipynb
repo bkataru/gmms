{
 "cells": [
  {
   "cell_type": "markdown",
   "id": "ef3753d8-b8c6-4b87-8fa4-8775f7e5ca41",
   "metadata": {},
   "source": [
    "# Random Variables\n",
    "\n",
    "Given an event space $\\Omega$ and a target space $\\mathcal{T}$, a random variable $X$ is a function that maps events in $\\Omega$ to outcomes in $\\mathcal{T}$\n",
    "\n",
    "$$X : \\Omega \\mapsto \\mathcal{T}$$"
   ]
  },
  {
   "cell_type": "markdown",
   "id": "74b1e97a-552a-48b5-9381-a798ce703375",
   "metadata": {},
   "source": [
    "# Distributions of Random Variables\n",
    "\n",
    "Consider a random variable $$X : \\Omega \\mapsto \\mathcal{T}$$ and a subset of the target space \n",
    "\n",
    "$$ S \\subseteq \\mathcal{T} $$\n",
    "\n",
    "(for example, a single element of $\\mathcal{T}$ can be the outcome that one head is obtained when tossing two coins one after another)\n",
    "\n",
    "Let $X^{-1}(S)$ be the pre-image of $S$ by $X$, i.e., the set of elements of $\\Omega$ that map to $S$ under the random variable $X$. This can be denoted in set builder notation as\n",
    "\n",
    "$$X^{-1}(S) = \\{ \\omega \\in \\Omega \\, \\vert \\, X(\\omega) \\in S \\}$$\n",
    "\n",
    "To understand the transformation of probability from events in $\\Omega$ via the random variable $X$, we can associate it with the probability of the pre-image of $S$, i.e., for $S \\subseteq \\mathcal{T}$,\n",
    "\n",
    "$$P_X(S) = P(X \\in S) = P(X^{-1}(S)) = P(\\{ \\omega \\in \\Omega \\, \\vert \\, X(\\omega) \\in S \\})$$\n",
    "\n",
    "The left hand side of this equation is the probability of the set of possible outcomes with a particular property that we are interested in. Via the random variable $X$, which maps states to outcomes, the right hand side is the probability of the set of states in $\\Omega$ that have this property.\n",
    "\n",
    "We say that a random variable $X$ is distributed according to a particular probability distribution $P_X$ which defines the probability mapping between the event and the probability of the outcome of the random variable. In other words, the function $P_X$ or equivalently $P \\circ X^{-1}$ is the _law_ or _distribution_ of the random variable $X$\n",
    "\n",
    "The nature of the target space $\\mathcal{T}$ (the range of the random variable $X$) determines the kind of probability space involved:\n",
    "\n",
    "- When $\\mathcal{T}$ is finite or countably infinite, $X$ is called a discrete random variable\n",
    "- When $\\mathcal{T}$ is infinite or uncountably finite, $X$ is called a continuous random variable. We mainly consider continuous random variables where the target spaces are $\\mathcal{T} = \\mathbb{R}$ or $\\mathcal{T} = \\mathbb{R}^D$"
   ]
  },
  {
   "cell_type": "markdown",
   "id": "8b19cebc-dc73-495b-901f-fba6aabfbf68",
   "metadata": {},
   "source": [
    "# Discrete and Continuous Probabilities\n",
    "\n",
    "### Discrete Target Spaces\n",
    "\n",
    "When the target space $\\mathcal{T}$ is discrete, the probability that a random variable $X$ takes on a particular value $x \\in \\mathcal{T}$ is \n",
    "\n",
    "$$P(X = x)$$\n",
    "\n",
    "This is called the _probability mass function_ for the discrete random variable $X$.\n",
    "\n",
    "### Continuous Target Spaces\n",
    "\n",
    "When the target space $\\mathcal{T}$ is continuous, e.g., the real line $\\mathbb{R}$, it is more natural to specify the probability that a random variable $X$ is in an interval $[a, b]$, where $a < b$, as\n",
    "\n",
    "$$P(a \\leq X \\leq b)$$\n",
    "\n",
    "With that in mind, the probability that a random variable $X$ is less than a particular value $x$ is denoted by\n",
    "\n",
    "$$P(X \\leq x)$$\n",
    "\n",
    "This function, for a continuous random variable $X$, is known as the _cumulative distribution function_.\n",
    "\n",
    "## Discrete Probabilities"
   ]
  },
  {
   "cell_type": "code",
   "execution_count": null,
   "id": "e15de052-7add-4eef-86e4-e5c59014439c",
   "metadata": {},
   "outputs": [],
   "source": []
  }
 ],
 "metadata": {
  "kernelspec": {
   "display_name": "Python 3 (ipykernel)",
   "language": "python",
   "name": "python3"
  },
  "language_info": {
   "codemirror_mode": {
    "name": "ipython",
    "version": 3
   },
   "file_extension": ".py",
   "mimetype": "text/x-python",
   "name": "python",
   "nbconvert_exporter": "python",
   "pygments_lexer": "ipython3",
   "version": "3.12.4"
  }
 },
 "nbformat": 4,
 "nbformat_minor": 5
}
