{
 "cells": [
  {
   "cell_type": "markdown",
   "id": "ef3753d8-b8c6-4b87-8fa4-8775f7e5ca41",
   "metadata": {},
   "source": [
    "# Random Variables\n",
    "\n",
    "Given an event space $\\Omega$ and a target space $\\mathcal{T}$, a random variable $X$ is a function that maps events in $\\Omega$ to outcomes in $\\mathcal{T}$\n",
    "\n",
    "$$X : \\Omega \\mapsto \\mathcal{T}$$"
   ]
  },
  {
   "cell_type": "markdown",
   "id": "74b1e97a-552a-48b5-9381-a798ce703375",
   "metadata": {},
   "source": [
    "# Distributions of Random Variables\n",
    "\n",
    "Consider a random variable $$X : \\Omega \\mapsto \\mathcal{T}$$ and a subset of the target space \n",
    "\n",
    "$$ S \\subseteq \\mathcal{T} $$\n",
    "\n",
    "(for example, a single element of $\\mathcal{T}$ can be the outcome that one head is obtained when tossing two coins one after another)\n",
    "\n",
    "Let $X^{-1}(S)$ be the pre-image of $S$ by $X$, i.e., the set of elements of $\\Omega$ that map to $S$ under the random variable $X$. This can be denoted in set builder notation as\n",
    "\n",
    "$$X^{-1}(S) = \\{ \\omega \\in \\Omega \\, \\vert \\, X(\\omega) \\in S \\}$$\n",
    "\n",
    "To understand the transformation of probability from events in $\\Omega$ via the random variable $X$, we can associate it with the probability of the pre-image of $S$, i.e., for $S \\subseteq \\mathcal{T}$,\n",
    "\n",
    "$$P_X(S) = P(X \\in S) = P(X^{-1}(S)) = P(\\{ \\omega \\in \\Omega \\, \\vert \\, X(\\omega) \\in S \\})$$\n",
    "\n",
    "The left hand side of this equation is the probability of the set of possible outcomes with a particular property that we are interested in. Via the random variable $X$, which maps states to outcomes, the right hand side is the probability of the set of states in $\\Omega$ that have this property.\n",
    "\n",
    "We say that a random variable $X$ is distributed according to a particular probability distribution $P_X$ which defines the probability mapping between the event and the probability of the outcome of the random variable. In other words, the function $P_X$ or equivalently $P \\circ X^{-1}$ is the _law_ or _distribution_ of the random variable $X$\n",
    "\n",
    "The nature of the target space $\\mathcal{T}$ (the range of the random variable $X$) determines the kind of probability space involved:\n",
    "\n",
    "- When $\\mathcal{T}$ is finite or countably infinite, $X$ is called a discrete random variable\n",
    "- When $\\mathcal{T}$ is infinite or uncountably finite, $X$ is called a continuous random variable. We mainly consider continuous random variables where the target spaces are $\\mathcal{T} = \\mathbb{R}$ or $\\mathcal{T} = \\mathbb{R}^D$"
   ]
  },
  {
   "cell_type": "markdown",
   "id": "8b19cebc-dc73-495b-901f-fba6aabfbf68",
   "metadata": {},
   "source": [
    "# Discrete and Continuous Probabilities\n",
    "\n",
    "### Discrete Target Spaces\n",
    "\n",
    "When the target space $\\mathcal{T}$ is discrete, the probability that a random variable $X$ takes on a particular value $x \\in \\mathcal{T}$ is \n",
    "\n",
    "$$P(X = x)$$\n",
    "\n",
    "This is called the _probability mass function_ for the discrete random variable $X$.\n",
    "\n",
    "### Continuous Target Spaces\n",
    "\n",
    "When the target space $\\mathcal{T}$ is continuous, e.g., the real line $\\mathbb{R}$, it is more natural to specify the probability that a random variable $X$ is in an interval $[a, b]$, where $a < b$, as\n",
    "\n",
    "$$P(a \\leq X \\leq b)$$\n",
    "\n",
    "With that in mind, the probability that a random variable $X$ is less than a particular value $x$ is denoted by\n",
    "\n",
    "$$P(X \\leq x)$$\n",
    "\n",
    "This function, for a continuous random variable $X$, is known as the _cumulative distribution function_.\n",
    "\n",
    "### Univariate and Multivariate Distributions\n",
    "\n",
    "- A univariate distribution is a probability distribution of a single random variable, where the random variable is denoted by a single non-bold letter such as $x$\n",
    "- A multivariate distribution is a probability distribution of more than one random variable, where the random variables are grouped into a vector and denoted as $\\mathbf{x}$"
   ]
  },
  {
   "cell_type": "markdown",
   "id": "9c3863b4-1aef-4be6-a563-5cb77afbd2a2",
   "metadata": {},
   "source": [
    "## Discrete Probabilities\n",
    "\n",
    "When the target space is discrete, we can visualize a probability distribution of multiple random variables as filling out a multidimensional array of numbers.\n",
    "\n",
    "The target space of the overall joint probability distribution $\\mathcal{T}$ is the Cartesian product of the target spaces $\\mathcal{T}_i$ of each of the random variables\n",
    "\n",
    "$$\\mathcal{T} = \\mathcal{T}_1 \\times \\mathcal{T}_2 \\times \\dots \\times \\mathcal{T}_n$$\n",
    "\n",
    "### Joint Probability\n",
    "\n",
    "In a frequentist fashion, we define the _joint probability_ as the entry of both values jointly\n",
    "\n",
    "$$P(X = x_i, Y = y_j) = \\frac{n_{ij}}{N}$$\n",
    "\n",
    "Where $n_{ij}$ is the number of events with state $x_i$ and $y_j$ and $N$ the total number of events.\n",
    "\n",
    "The joint probability is the probability of the intersection of both events, i.e.,\n",
    "\n",
    "$$P(X = x_i, Y = y_j) = P(X = x_i \\cap Y = y_j)$$\n",
    "\n",
    "For two random variables $X$ and $Y$, the joint probability, i.e., the probability that $X = x$ and $Y = y$ is written as $p(x, y)$. The probability is a function that takes states $x$ and $y$ and returns a real number, which is why we write it using function notation as $p(x, y)$\n",
    "\n",
    "### Marginal Probability\n",
    "\n",
    "The _marginal probability_ that $X$ takes the value $x$ irrespective of what value the random variable $Y$ takes is written as $p(x)$.\n",
    "\n",
    "We write $X \\sim p(x)$ to denote that the random variable $X$ is distributed according to $p(x)$\n",
    "\n",
    "\n",
    "### Conditional Probability\n",
    "\n",
    "If we consider only the instances where $X = x$ for a particular state/value $x$, then the fraction of instances (the _conditional probability_) for which $Y = y$ is written as $p(y \\, \\vert \\, x)$\n",
    "\n",
    "### Python Example\n",
    "\n",
    "We now consider an example of a multivariate probability distribution with two random variables and illustrate the concepts discussed so far in Python"
   ]
  },
  {
   "cell_type": "code",
   "execution_count": 24,
   "id": "e15de052-7add-4eef-86e4-e5c59014439c",
   "metadata": {},
   "outputs": [
    {
     "data": {
      "text/plain": [
       "array([[0.11538462, 0.30769231, 0.        , 0.30769231, 0.26923077],\n",
       "       [0.13636364, 0.40909091, 0.04545455, 0.27272727, 0.13636364],\n",
       "       [0.28      , 0.24      , 0.2       , 0.12      , 0.16      ]])"
      ]
     },
     "execution_count": 24,
     "metadata": {},
     "output_type": "execute_result"
    }
   ],
   "source": [
    "import numpy as np\n",
    "\n",
    "X = np.array([1, 2, 3, 4, 5])\n",
    "Y = np.array([30, 20, 10])\n",
    "\n",
    "n = np.random.randint(0, 10, size=(3, 5))\n",
    "\n",
    "N = np.sum(n)\n",
    "\n",
    "c = np.sum(n, axis=0)\n",
    "r = np.sum(n, axis=1)\n",
    "\n",
    "P_marginal_X = c / N\n",
    "P_marginal_Y = r / N\n",
    "\n",
    "assert 1 == 1\n",
    "\n",
    "P_conditional_X = np.divide(n, c)\n",
    "P_conditional_Y = np.divide(n.T, r).T"
   ]
  },
  {
   "cell_type": "markdown",
   "id": "6c961465-fe17-400b-ba46-6b022d124898",
   "metadata": {},
   "source": [
    "## Continuous Probabilities\n",
    "\n",
    "### Probability Density Function\n",
    "\n",
    "A function $f : \\mathbb{R}^D \\mapsto \\mathbb{R}$ is called a _probability density function (pdf)_ if\n",
    "\n",
    "1. $\\forall \\mathbf{x} \\in \\mathbb{R}^D : f(\\mathbf{x}) \\geq 0$\n",
    "2. Its integral exists (converges to a finite value) and\n",
    "\n",
    "$$\\int_{\\mathbb{R}^D} f(\\mathbf{x}) d\\mathbf{x} = 1$$\n",
    "\n",
    "For probability mass functions (pmf) of discrete random variables, the integral is replaced with a sum.\n",
    "\n",
    "Observe that the pdf is any function $f$ that is non-negative $f(\\mathbf{x}) \\geq 0$ and integrates to one.\n",
    "\n",
    "We associate a random variable $X$ with this function $f$ by\n",
    "\n",
    "$$P(a \\leq X \\leq b) = \\int^b_a f(x) dx$$\n",
    "\n",
    "Where $a, b \\in \\mathbb{R}$ and $x \\in \\mathbb{R}$ are outcomes of the continuous random variable $X$.\n",
    "\n",
    "States $\\mathbf{x} \\in \\mathbb{R}^D$ are defined analogously by considering a vector of $x \\in \\mathbb{R}$. This association is called the law or distribution of the random variable $X$.\n",
    "\n",
    "In contrast to discrete random variables, the probability of a continuous random variable $X$ taking a particular value $P(X = x)$ is zero. This is like trying to specify an interval in the integral where $a = b$, i.e., the area under a curve at a singular point is $0$.\n",
    "\n",
    "### Cumulative Distribution Function\n",
    "\n",
    "A _cumulative distribution function (cdf)_ of a multivariate real-valued random variable $X$ with states $\\mathbf{x} \\in \\mathbb{R}^D$ is given by\n",
    "\n",
    "$$ F_X(\\mathbf{x}) = P(X_1 \\leq x_1, \\ldots, X_D \\leq x_D)$$\n",
    "\n",
    "Where $X = [X_1, \\ldots, X_D]^\\operatorname{T}$, $\\mathbf{x} = [x_1, \\ldots, x_D]^\\operatorname{T}$"
   ]
  },
  {
   "cell_type": "code",
   "execution_count": null,
   "id": "f0603dbc-e112-4f7e-bcb3-df0036eaea45",
   "metadata": {},
   "outputs": [],
   "source": []
  }
 ],
 "metadata": {
  "kernelspec": {
   "display_name": "Python 3 (ipykernel)",
   "language": "python",
   "name": "python3"
  },
  "language_info": {
   "codemirror_mode": {
    "name": "ipython",
    "version": 3
   },
   "file_extension": ".py",
   "mimetype": "text/x-python",
   "name": "python",
   "nbconvert_exporter": "python",
   "pygments_lexer": "ipython3",
   "version": "3.12.4"
  }
 },
 "nbformat": 4,
 "nbformat_minor": 5
}
