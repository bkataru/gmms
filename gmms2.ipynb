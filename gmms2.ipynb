{
 "cells": [
  {
   "cell_type": "markdown",
   "id": "3adcb373-c066-4844-aea3-917037062cac",
   "metadata": {},
   "source": [
    "# Gaussian Mixture Models\n",
    "\n",
    "The Gaussian Mixture Model (GMM) is a probabilistic model that assumes that all data points are generated from a mixture of several Gaussian distributions with unknown parameters. In other words, we consider a weighted sum of Gaussian distributions as being the underlying distribution of the data.\n",
    "\n",
    "To quantify this notion, we assume that each data point $x_n$ has been produced by a latent variable $z$. For our purposes, $z$ is a categorical distribution representing $K$ underlying distributions.\n",
    "\n",
    "Each data point can be mapped to a specific Gaussian distribution by treating the latent variable $z$ as a numerical label which takes on values from $1$ to $K$ and indicates the component distribution.\n",
    "\n",
    "In reality, we do not know definitively which Gaussian component has generated which data point, however we can assume a soft assignment on $z$ by modelling in terms of the _probability_ that a certain Gaussian component has generated a particular data point. To quantify this, the probability that $z = k$, i.e., the data point comes from the $k$-th Gaussian component, is given by the mixing coefficient $\\pi_k$\n",
    "\n",
    "$$p(z = k) = \\pi_k$$\n",
    "\n",
    "Where\n",
    "\n",
    "$$0 \\leq \\pi_k \\leq 1$$\n",
    "\n",
    "$$ \\sum_{k = 1}^{K} \\pi_k = 1 $$\n",
    "\n",
    "Given $z = k$, the data point $\\mathbf{x}$ is drawn from the $k$-th Gaussian component with mean $\\mu_k$ and variance $\\Sigma_k$ with probability\n",
    "\n",
    "$$p( \\mathbf{x} \\, \\vert \\, z = k ) = \\mathcal{N}(\\mathbf{x} \\, \\vert \\mu_k, \\Sigma_k)$$\n",
    "\n",
    "Now we consider the joint probability of $\\mathbf{x}$ and $z$, which can be factorized via the product rule of probability distributions as,\n",
    "\n",
    "$$p(\\mathbf{x}, z = k) = p(\\mathbf{x} \\, \\vert \\, z = k) p(z = k)$$\n",
    "\n",
    "Substituting the probabilities,\n",
    "\n",
    "$$p(\\mathbf{x}, z = k) = \\pi_k \\mathcal{N}(\\mathbf{x} \\, \\vert \\, \\mu_k, \\Sigma_k)$$\n",
    "\n",
    "We now marginalize out the latent variable $z$ from this joint distribution via the sum rule of probability distributions to obtain the likelihood of a GMM\n",
    "\n",
    "$$\\begin{align*} p(\\mathbf{x}) &= \\sum_{k = 1}^K p(\\mathbf{x}, z = k) \\\\ &= \\sum_{k = 1}^K \\pi_k \\mathcal{N}(\\mathbf{x} \\, \\vert \\, \\mu_k, \\Sigma_k) \\end{align*}$$\n"
   ]
  },
  {
   "cell_type": "code",
   "execution_count": null,
   "id": "24959889-ebd0-4c6e-a827-fa6f0d389fc0",
   "metadata": {},
   "outputs": [],
   "source": []
  }
 ],
 "metadata": {
  "kernelspec": {
   "display_name": "Python 3 (ipykernel)",
   "language": "python",
   "name": "python3"
  },
  "language_info": {
   "codemirror_mode": {
    "name": "ipython",
    "version": 3
   },
   "file_extension": ".py",
   "mimetype": "text/x-python",
   "name": "python",
   "nbconvert_exporter": "python",
   "pygments_lexer": "ipython3",
   "version": "3.12.4"
  }
 },
 "nbformat": 4,
 "nbformat_minor": 5
}
